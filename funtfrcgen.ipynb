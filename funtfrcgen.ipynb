{
 "cells": [
  {
   "cell_type": "code",
   "execution_count": 1,
   "metadata": {
    "_cell_guid": "b1076dfc-b9ad-4769-8c92-a6c4dae69d19",
    "_uuid": "8f2839f25d086af736a60e9eeb907d3b93b6e0e5",
    "execution": {
     "iopub.execute_input": "2021-01-02T14:18:05.200167Z",
     "iopub.status.busy": "2021-01-02T14:18:05.199018Z",
     "iopub.status.idle": "2021-01-02T14:18:12.062276Z",
     "shell.execute_reply": "2021-01-02T14:18:12.062906Z"
    },
    "papermill": {
     "duration": 6.878476,
     "end_time": "2021-01-02T14:18:12.063155",
     "exception": false,
     "start_time": "2021-01-02T14:18:05.184679",
     "status": "completed"
    },
    "tags": []
   },
   "outputs": [],
   "source": [
    "import csv\n",
    "import os\n",
    "import gc\n",
    "import numpy as np\n",
    "import tensorflow as tf\n",
    "from random import randint\n",
    "from tensorflow import keras\n",
    "from keras.utils import np_utils, plot_model, to_categorical\n",
    "from keras.models import Model\n",
    "from keras.optimizers import Adam\n",
    "from keras.layers import Input, LSTM, Dense, RepeatVector, TimeDistributed, concatenate"
   ]
  },
  {
   "cell_type": "code",
   "execution_count": 2,
   "metadata": {
    "_cell_guid": "79c7e3d0-c299-4dcb-8224-4455121ee9b0",
    "_uuid": "d629ff2d2480ee46fbb7e2d37f6b5fab8052498a",
    "execution": {
     "iopub.execute_input": "2021-01-02T14:18:12.087612Z",
     "iopub.status.busy": "2021-01-02T14:18:12.086433Z",
     "iopub.status.idle": "2021-01-02T14:18:12.144971Z",
     "shell.execute_reply": "2021-01-02T14:18:12.145830Z"
    },
    "papermill": {
     "duration": 0.071787,
     "end_time": "2021-01-02T14:18:12.146129",
     "exception": false,
     "start_time": "2021-01-02T14:18:12.074342",
     "status": "completed"
    },
    "tags": []
   },
   "outputs": [],
   "source": [
    "# returns train, inference_encoder and inference_decoder models\n",
    "def define_models(dim_p, n_units):\n",
    "\t# define training encoder\n",
    "\tenc_in_o = Input(shape=(None, 1))\n",
    "\tenc_in_q = Input(shape=(None, 1))\n",
    "\tenc_in_p = Input(shape=(None, dim_p))\n",
    "\tencoder_inputs = concatenate([enc_in_o, enc_in_q, enc_in_p])\n",
    "\tencoder = LSTM(n_units, return_state=True)\n",
    "\tencoder_outputs, state_h, state_c = encoder(encoder_inputs)\n",
    "\tencoder_states = [state_h, state_c]\n",
    "\t\n",
    "\t# define training decoder\n",
    "\tdec_in_o = Input(shape=(None, 1))\n",
    "\tdec_in_q = Input(shape=(None, 1))\n",
    "\tdec_in_p = Input(shape=(None, dim_p))\n",
    "\tdecoder_inputs = concatenate([dec_in_o, dec_in_q, dec_in_p])\n",
    "\tdecoder_lstm = LSTM(n_units, return_sequences=True, return_state=True)\n",
    "\tdecoder_outputs, _, _ = decoder_lstm(decoder_inputs, initial_state=encoder_states)\n",
    "\tdec_dense_o = Dense(1, activation='relu', name='tr_out_o')\n",
    "\tdec_dense_q = Dense(1, activation='sigmoid', name='tr_out_q')\n",
    "\tdec_dense_p = Dense(dim_p, activation='softmax', name='tr_out_p')\n",
    "\t#out_o = Dense(1, activation='relu', name='tr_out_o')(decoder_outputs)#act relu\n",
    "\t#out_q = Dense(1, activation='sigmoid', name='tr_out_q')(decoder_outputs)\n",
    "\t#out_p = Dense(dim_p, activation='softmax', name='tr_out_p')(decoder_outputs)\n",
    "\tout_o = dec_dense_o(decoder_outputs)\n",
    "\tout_q = dec_dense_q(decoder_outputs)\n",
    "\tout_p = dec_dense_p(decoder_outputs)\n",
    "\t\n",
    "\tmodel = Model([enc_in_o, enc_in_q, enc_in_p, dec_in_o, dec_in_q, dec_in_p], [out_o, out_q, out_p])\n",
    "\t\n",
    "\t# define inference encoder\n",
    "\tencoder_model = Model([enc_in_o, enc_in_q, enc_in_p], encoder_states)\n",
    "\t\n",
    "\t# define inference decoder\n",
    "\tdecoder_state_input_h = Input(shape=(n_units,))\n",
    "\tdecoder_state_input_c = Input(shape=(n_units,))\n",
    "\tdecoder_states_inputs = [decoder_state_input_h, decoder_state_input_c]\n",
    "\tdecoder_outputs, state_h, state_c = decoder_lstm(decoder_inputs, initial_state=decoder_states_inputs)\n",
    "\tdecoder_states = [state_h, state_c]\n",
    "\t#out_o = TimeDistributed(Dense(1, activation='relu'))(decoder_outputs)#act relu\n",
    "\t#out_q = TimeDistributed(Dense(1, activation='sigmoid'))(decoder_outputs)\n",
    "\t#out_p = TimeDistributed(Dense(dim_p, activation='softmax'))(decoder_outputs)\n",
    "\tout_o = dec_dense_o(decoder_outputs)\n",
    "\tout_q = dec_dense_q(decoder_outputs)\n",
    "\tout_p = dec_dense_p(decoder_outputs)\n",
    "\n",
    "\tdecoder_model = Model([dec_in_o, dec_in_q, dec_in_p] + decoder_states_inputs, [out_o, out_q, out_p] + decoder_states)\n",
    "\t# return all models\n",
    "\treturn model, encoder_model, decoder_model\n",
    "\n",
    "\n",
    "# generate target given source sequence\n",
    "def predict_sequence(infenc, infdec, src_o, src_q, src_p, n_steps, cardinality):\n",
    "\t# encode\n",
    "\tstate = infenc.predict([src_o, src_q, src_p])\n",
    "\t# start of sequence input\n",
    "\ttarget_o = np.array([-1]).reshape(1, 1, 1)\n",
    "\ttarget_q = np.array([-1]).reshape(1, 1, 1)\n",
    "\t#target_p = 0\n",
    "\ttarget_p = np.array([0.0 for _ in range(cardinality)]).reshape(1, 1, cardinality)\n",
    "\t# collect predictions\n",
    "\toutput = list()\n",
    "\tfor t in range(n_steps):\n",
    "\t\t# predict next char\n",
    "\t\t#print(target_o.shape)\n",
    "\t\t#print(target_q.shape)\n",
    "\t\t#print(target_p.shape)\n",
    "\t\t#print(state[0].shape)\n",
    "\t\to, q, p, h, c = infdec.predict([target_o, target_q, target_p] + state)\n",
    "\t\t#print(a)\n",
    "\t\t# store prediction\n",
    "\t\toutput.append(o[0,0,:])\n",
    "\t\toutput.append(q[0,0,:])\n",
    "\t\toutput.append(p[0,0,:])\n",
    "\t\t# update state\n",
    "\t\tstate = [h, c]\n",
    "\t\t# update target sequence\n",
    "\t\ttarget_o = o\n",
    "\t\ttarget_q = q\n",
    "\t\ttarget_p = p\n",
    "\treturn np.array(output)\n",
    "\n",
    "# decode a one hot encoded string\n",
    "def one_hot_decode(encoded_seq):\n",
    "\treturn [np.argmax(vector) for vector in encoded_seq]\n",
    "\n",
    "#create list with window length sequences of list a data\n",
    "def rolling_window(a, window):\n",
    "    shape = a.shape[:-1] + (a.shape[-1] - window + 1, window)\n",
    "    strides = a.strides + (a.strides[-1],)\n",
    "    return np.lib.stride_tricks.as_strided(a, shape=shape, strides=strides)\n",
    "\n",
    "#generate train inputs and outputs while one hot encoding pitch and padding for seq2seq\n",
    "def generatorex(features1, features2, features3, seq_length, batch_size):\n",
    "    # Create empty arrays to contain batch of features and labels# \n",
    "    batch_features1 = np.zeros((batch_size, seq_length, 1))\n",
    "    batch_features2 = np.zeros((batch_size, seq_length, 1))\n",
    "    batch_features3 = np.zeros((batch_size, seq_length, 128))\n",
    "    batch_feat_pad1 = np.zeros((batch_size, seq_length, 1))\n",
    "    batch_feat_pad2 = np.zeros((batch_size, seq_length, 1))\n",
    "    batch_feat_pad3 = np.zeros((batch_size, seq_length, 128))\n",
    "    i = 0\n",
    "    while True:\n",
    "        for b in range(batch_size):\n",
    "            batch_features1[b] = features1[i]\n",
    "            batch_features2[b] = features2[i]\n",
    "            batch_features3[b] = to_categorical(features3[i], num_classes=128)\n",
    "            batch_feat_pad1[b] = np.append([-1], features1[i][:-1]).reshape(seq_length, 1)\n",
    "            batch_feat_pad2[b] = np.append([-1], features2[i][:-1]).reshape(seq_length, 1)\n",
    "            batch_feat_pad3[b] = to_categorical(np.append([0], features3[i][:-1]).reshape(seq_length, 1), num_classes=128)\n",
    "            i += 1\n",
    "            if (i == len(features1)):\n",
    "                i=0\n",
    "        #print(batch_features, batch_labels)\n",
    "        yield [batch_features1, batch_features2, batch_features3, batch_feat_pad1, batch_feat_pad2, batch_feat_pad3], [batch_features1, batch_features2, batch_features3]"
   ]
  },
  {
   "cell_type": "code",
   "execution_count": 3,
   "metadata": {
    "execution": {
     "iopub.execute_input": "2021-01-02T14:18:12.178618Z",
     "iopub.status.busy": "2021-01-02T14:18:12.177522Z",
     "iopub.status.idle": "2021-01-02T14:22:46.109950Z",
     "shell.execute_reply": "2021-01-02T14:22:46.109207Z"
    },
    "papermill": {
     "duration": 273.94916,
     "end_time": "2021-01-02T14:22:46.110101",
     "exception": false,
     "start_time": "2021-01-02T14:18:12.160941",
     "status": "completed"
    },
    "tags": []
   },
   "outputs": [],
   "source": [
    "#load data\n",
    "stream_list = []\n",
    "\n",
    "for path, subdirectories, files in os.walk('/kaggle/input/data-rock'):\n",
    "    for name in files:\n",
    "        with open(os.path.join(path, name), 'r') as f: \n",
    "            reader = csv.reader(f)\n",
    "            sub_list = [list(map(float,rec)) for rec in csv.reader(f, delimiter=',')]\n",
    "            stream_list = stream_list + sub_list"
   ]
  },
  {
   "cell_type": "code",
   "execution_count": 4,
   "metadata": {
    "execution": {
     "iopub.execute_input": "2021-01-02T14:22:46.172224Z",
     "iopub.status.busy": "2021-01-02T14:22:46.156747Z",
     "iopub.status.idle": "2021-01-02T14:22:52.410916Z",
     "shell.execute_reply": "2021-01-02T14:22:52.410265Z"
    },
    "papermill": {
     "duration": 6.292259,
     "end_time": "2021-01-02T14:22:52.411054",
     "exception": false,
     "start_time": "2021-01-02T14:22:46.118795",
     "status": "completed"
    },
    "tags": []
   },
   "outputs": [],
   "source": [
    "#create seperate data structures for each variable (offset, quarterlength, pitch)\n",
    "#normalise offset and quarterlength\n",
    "offs = []\n",
    "qlngth = []\n",
    "ptch = []\n",
    "\n",
    "offsb = max(element[0] for element in stream_list if element[0]<=1200.0)\n",
    "qlngthb = max(element[1] for element in stream_list if element[1]<=50.0)\n",
    "#ptchb = 127.0\n",
    "\n",
    "for row in stream_list:\n",
    "    if (row[0] <= 1200.0 and row[1] <= 50.0):\n",
    "        offs.append(row[0]/offsb)\n",
    "        qlngth.append(row[1]/qlngthb)\n",
    "        ptch.append(row[2])"
   ]
  },
  {
   "cell_type": "code",
   "execution_count": 5,
   "metadata": {
    "execution": {
     "iopub.execute_input": "2021-01-02T14:22:54.429909Z",
     "iopub.status.busy": "2021-01-02T14:22:54.429076Z",
     "iopub.status.idle": "2021-01-02T14:22:54.432836Z",
     "shell.execute_reply": "2021-01-02T14:22:54.433350Z"
    },
    "papermill": {
     "duration": 2.013755,
     "end_time": "2021-01-02T14:22:54.433496",
     "exception": false,
     "start_time": "2021-01-02T14:22:52.419741",
     "status": "completed"
    },
    "tags": []
   },
   "outputs": [
    {
     "name": "stdout",
     "output_type": "stream",
     "text": [
      "Total Patterns:  4963917\n"
     ]
    }
   ],
   "source": [
    "#divide the sets in sequences of specific length \n",
    "dtlngth=len(offs)\n",
    "seq_length = 4#100 groups of 3\n",
    "\n",
    "dataX1_o = rolling_window(np.asarray(offs), seq_length)\n",
    "dataX1_q = rolling_window(np.asarray(qlngth), seq_length)\n",
    "dataX1_p = rolling_window(np.asarray(ptch), seq_length)\n",
    "\n",
    "n_patterns = len(dataX1_p)\n",
    "print (\"Total Patterns: \", n_patterns)"
   ]
  },
  {
   "cell_type": "code",
   "execution_count": 6,
   "metadata": {
    "execution": {
     "iopub.execute_input": "2021-01-02T14:22:54.459602Z",
     "iopub.status.busy": "2021-01-02T14:22:54.458490Z",
     "iopub.status.idle": "2021-01-02T14:22:54.462140Z",
     "shell.execute_reply": "2021-01-02T14:22:54.461620Z"
    },
    "papermill": {
     "duration": 0.019271,
     "end_time": "2021-01-02T14:22:54.462256",
     "exception": false,
     "start_time": "2021-01-02T14:22:54.442985",
     "status": "completed"
    },
    "tags": []
   },
   "outputs": [],
   "source": [
    "#reshape inputs to be [samples, time steps, features]\n",
    "dataX1_o = np.reshape(dataX1_o, (dtlngth - seq_length + 1, seq_length, 1))\n",
    "dataX1_q = np.reshape(dataX1_q, (dtlngth - seq_length + 1, seq_length, 1))\n",
    "dataX1_p = np.reshape(dataX1_p, (dtlngth - seq_length + 1, seq_length, 1))"
   ]
  },
  {
   "cell_type": "code",
   "execution_count": 7,
   "metadata": {
    "execution": {
     "iopub.execute_input": "2021-01-02T14:22:54.488632Z",
     "iopub.status.busy": "2021-01-02T14:22:54.487564Z",
     "iopub.status.idle": "2021-01-02T14:22:54.490956Z",
     "shell.execute_reply": "2021-01-02T14:22:54.490322Z"
    },
    "papermill": {
     "duration": 0.019674,
     "end_time": "2021-01-02T14:22:54.491081",
     "exception": false,
     "start_time": "2021-01-02T14:22:54.471407",
     "status": "completed"
    },
    "tags": []
   },
   "outputs": [],
   "source": [
    "#divide data in train and validation sets\n",
    "split_i = n_patterns*10 // 100\n",
    "\n",
    "dataX1_o_v = dataX1_o[-split_i:]\n",
    "dataX1_o = dataX1_o[:-split_i]\n",
    "\n",
    "dataX1_q_v = dataX1_q[-split_i:]\n",
    "dataX1_q = dataX1_q[:-split_i]\n",
    "\n",
    "dataX1_p_v = dataX1_p[-split_i:]\n",
    "dataX1_p = dataX1_p[:-split_i]"
   ]
  },
  {
   "cell_type": "code",
   "execution_count": 8,
   "metadata": {
    "execution": {
     "iopub.execute_input": "2021-01-02T14:22:54.517175Z",
     "iopub.status.busy": "2021-01-02T14:22:54.516328Z",
     "iopub.status.idle": "2021-01-02T14:22:56.274142Z",
     "shell.execute_reply": "2021-01-02T14:22:56.273475Z"
    },
    "papermill": {
     "duration": 1.773984,
     "end_time": "2021-01-02T14:22:56.274288",
     "exception": false,
     "start_time": "2021-01-02T14:22:54.500304",
     "status": "completed"
    },
    "tags": []
   },
   "outputs": [],
   "source": [
    "# configure problem\n",
    "n_features = 127+1\n",
    "n_steps_out = seq_length\n",
    "# define model\n",
    "train, infenc, infdec = define_models(n_features, 256)\n",
    "train.compile(optimizer='adam', loss={'tr_out_o': 'mse', 'tr_out_q': 'mse', 'tr_out_p': 'categorical_crossentropy'},\n",
    " metrics={'tr_out_o': 'mean_squared_error', 'tr_out_q': 'mean_squared_error', 'tr_out_p': 'accuracy'})"
   ]
  },
  {
   "cell_type": "code",
   "execution_count": 9,
   "metadata": {
    "execution": {
     "iopub.execute_input": "2021-01-02T14:22:56.300974Z",
     "iopub.status.busy": "2021-01-02T14:22:56.300194Z",
     "iopub.status.idle": "2021-01-02T17:24:42.911503Z",
     "shell.execute_reply": "2021-01-02T17:24:42.912013Z"
    },
    "papermill": {
     "duration": 10906.628156,
     "end_time": "2021-01-02T17:24:42.912206",
     "exception": false,
     "start_time": "2021-01-02T14:22:56.284050",
     "status": "completed"
    },
    "tags": []
   },
   "outputs": [
    {
     "name": "stdout",
     "output_type": "stream",
     "text": [
      "Epoch 1/10\n",
      "827/827 [==============================] - 1086s 1s/step - loss: 1.2226 - tr_out_o_loss: 0.0115 - tr_out_q_loss: 0.0041 - tr_out_p_loss: 1.2070 - tr_out_o_mean_squared_error: 0.0115 - tr_out_q_mean_squared_error: 0.0041 - tr_out_p_accuracy: 0.6789\n",
      "Epoch 2/10\n",
      "827/827 [==============================] - 1109s 1s/step - loss: 0.0618 - tr_out_o_loss: 0.0022 - tr_out_q_loss: 9.4384e-04 - tr_out_p_loss: 0.0586 - tr_out_o_mean_squared_error: 0.0022 - tr_out_q_mean_squared_error: 9.4384e-04 - tr_out_p_accuracy: 0.9923\n",
      "Epoch 3/10\n",
      "827/827 [==============================] - 1088s 1s/step - loss: 0.0184 - tr_out_o_loss: 0.0013 - tr_out_q_loss: 8.3517e-04 - tr_out_p_loss: 0.0163 - tr_out_o_mean_squared_error: 0.0013 - tr_out_q_mean_squared_error: 8.3517e-04 - tr_out_p_accuracy: 0.9984\n",
      "Epoch 4/10\n",
      "827/827 [==============================] - 1092s 1s/step - loss: 0.0092 - tr_out_o_loss: 9.7609e-04 - tr_out_q_loss: 6.7800e-04 - tr_out_p_loss: 0.0076 - tr_out_o_mean_squared_error: 9.7609e-04 - tr_out_q_mean_squared_error: 6.7800e-04 - tr_out_p_accuracy: 0.9992\n",
      "Epoch 5/10\n",
      "827/827 [==============================] - 1073s 1s/step - loss: 0.0085 - tr_out_o_loss: 6.0499e-04 - tr_out_q_loss: 5.7214e-04 - tr_out_p_loss: 0.0073 - tr_out_o_mean_squared_error: 6.0499e-04 - tr_out_q_mean_squared_error: 5.7214e-04 - tr_out_p_accuracy: 0.9990\n",
      "Epoch 6/10\n",
      "827/827 [==============================] - 1103s 1s/step - loss: 0.0035 - tr_out_o_loss: 3.6384e-04 - tr_out_q_loss: 4.9422e-04 - tr_out_p_loss: 0.0027 - tr_out_o_mean_squared_error: 3.6384e-04 - tr_out_q_mean_squared_error: 4.9422e-04 - tr_out_p_accuracy: 0.9997\n",
      "Epoch 7/10\n",
      "827/827 [==============================] - 1086s 1s/step - loss: 0.0021 - tr_out_o_loss: 3.1091e-04 - tr_out_q_loss: 4.0136e-04 - tr_out_p_loss: 0.0014 - tr_out_o_mean_squared_error: 3.1091e-04 - tr_out_q_mean_squared_error: 4.0136e-04 - tr_out_p_accuracy: 0.9999\n",
      "Epoch 8/10\n",
      "827/827 [==============================] - 1077s 1s/step - loss: 0.0021 - tr_out_o_loss: 3.4904e-04 - tr_out_q_loss: 3.4565e-04 - tr_out_p_loss: 0.0014 - tr_out_o_mean_squared_error: 3.4904e-04 - tr_out_q_mean_squared_error: 3.4565e-04 - tr_out_p_accuracy: 0.9998\n",
      "Epoch 9/10\n",
      "827/827 [==============================] - 1082s 1s/step - loss: 0.0061 - tr_out_o_loss: 4.1111e-04 - tr_out_q_loss: 3.7752e-04 - tr_out_p_loss: 0.0053 - tr_out_o_mean_squared_error: 4.1111e-04 - tr_out_q_mean_squared_error: 3.7752e-04 - tr_out_p_accuracy: 0.9988\n",
      "Epoch 10/10\n",
      "827/827 [==============================] - 1094s 1s/step - loss: 0.0022 - tr_out_o_loss: 2.2719e-04 - tr_out_q_loss: 3.5940e-04 - tr_out_p_loss: 0.0016 - tr_out_o_mean_squared_error: 2.2719e-04 - tr_out_q_mean_squared_error: 3.5940e-04 - tr_out_p_accuracy: 0.9998\n"
     ]
    },
    {
     "data": {
      "text/plain": [
       "<tensorflow.python.keras.callbacks.History at 0x7fc1e4428a90>"
      ]
     },
     "execution_count": 9,
     "metadata": {},
     "output_type": "execute_result"
    }
   ],
   "source": [
    "# train model\n",
    "train.fit(generatorex(dataX1_o, dataX1_q, dataX1_p, seq_length, batch_size=5400), epochs = 10, steps_per_epoch= (dtlngth-split_i) // 5400)"
   ]
  },
  {
   "cell_type": "code",
   "execution_count": 10,
   "metadata": {
    "execution": {
     "iopub.execute_input": "2021-01-02T17:24:48.807365Z",
     "iopub.status.busy": "2021-01-02T17:24:48.806708Z",
     "iopub.status.idle": "2021-01-02T17:24:52.795061Z",
     "shell.execute_reply": "2021-01-02T17:24:52.795693Z"
    },
    "papermill": {
     "duration": 7.004153,
     "end_time": "2021-01-02T17:24:52.795880",
     "exception": false,
     "start_time": "2021-01-02T17:24:45.791727",
     "status": "completed"
    },
    "tags": []
   },
   "outputs": [
    {
     "name": "stdout",
     "output_type": "stream",
     "text": [
      "X_o=[335.], y_o=[293.4726], X_q=[0.25], y_q=[0.76060593], X_p=[45.], y_p=[45]\n",
      "X_o=[335.], y_o=[290.98416], X_q=[0.25], y_q=[0.5146682], X_p=[52.], y_p=[52]\n",
      "X_o=[335.], y_o=[283.11334], X_q=[0.25], y_q=[0.6598443], X_p=[57.], y_p=[57]\n",
      "X_o=[335.], y_o=[320.0026], X_q=[0.25], y_q=[0.51357746], X_p=[61.], y_p=[61]\n",
      "\n",
      "X_o=[69.75], y_o=[25.993637], X_q=[0.75], y_q=[0.89167655], X_p=[53.], y_p=[53]\n",
      "X_o=[70.25], y_o=[34.1766], X_q=[0.], y_q=[0.6193444], X_p=[41.], y_p=[41]\n",
      "X_o=[70.5], y_o=[29.75795], X_q=[0.25], y_q=[0.4404664], X_p=[55.], y_p=[55]\n",
      "X_o=[70.5], y_o=[47.78494], X_q=[0.33333333], y_q=[0.84058344], X_p=[41.], y_p=[41]\n",
      "\n",
      "X_o=[92.], y_o=[49.02166], X_q=[0.5], y_q=[0.99671334], X_p=[54.], y_p=[54]\n",
      "X_o=[92.], y_o=[50.075966], X_q=[0.5], y_q=[0.5840838], X_p=[30.], y_p=[30]\n",
      "X_o=[93.], y_o=[40.355106], X_q=[0.5], y_q=[0.98662674], X_p=[42.], y_p=[42]\n",
      "X_o=[93.], y_o=[35.601383], X_q=[0.5], y_q=[1.5752971], X_p=[49.], y_p=[49]\n",
      "\n",
      "X_o=[326.], y_o=[304.75006], X_q=[0.25], y_q=[0.6732911], X_p=[53.], y_p=[53]\n",
      "X_o=[326.], y_o=[314.44635], X_q=[0.25], y_q=[0.5385414], X_p=[41.], y_p=[41]\n",
      "X_o=[326.], y_o=[305.71252], X_q=[1.], y_q=[0.42288005], X_p=[62.], y_p=[62]\n",
      "X_o=[326.], y_o=[311.7175], X_q=[0.25], y_q=[0.65369606], X_p=[41.], y_p=[41]\n",
      "\n",
      "X_o=[390.], y_o=[392.44305], X_q=[0.5], y_q=[1.2165084], X_p=[40.], y_p=[40]\n",
      "X_o=[390.], y_o=[414.2987], X_q=[0.5], y_q=[0.2802223], X_p=[28.], y_p=[28]\n",
      "X_o=[390.5], y_o=[422.24393], X_q=[0.5], y_q=[0.27754456], X_p=[40.], y_p=[40]\n",
      "X_o=[390.5], y_o=[397.6246], X_q=[0.5], y_q=[0.23015738], X_p=[28.], y_p=[28]\n",
      "\n",
      "X_o=[63.5], y_o=[52.673714], X_q=[4.5], y_q=[4.7293334], X_p=[63.], y_p=[63]\n",
      "X_o=[63.5], y_o=[46.123466], X_q=[2.5], y_q=[2.649896], X_p=[67.], y_p=[67]\n",
      "X_o=[63.5], y_o=[50.332527], X_q=[0.], y_q=[2.3053467], X_p=[22.], y_p=[22]\n",
      "X_o=[64.5], y_o=[71.178986], X_q=[0.5], y_q=[1.0870486], X_p=[46.], y_p=[46]\n",
      "\n",
      "X_o=[130.], y_o=[89.38395], X_q=[0.5], y_q=[0.7906556], X_p=[34.], y_p=[34]\n",
      "X_o=[131.], y_o=[94.86259], X_q=[0.5], y_q=[0.6790355], X_p=[46.], y_p=[46]\n",
      "X_o=[131.], y_o=[87.69286], X_q=[0.5], y_q=[0.73325187], X_p=[34.], y_p=[34]\n",
      "X_o=[132.], y_o=[74.403824], X_q=[0.5], y_q=[1.0915682], X_p=[51.], y_p=[51]\n",
      "\n",
      "X_o=[44.75], y_o=[5.2596183], X_q=[0.25], y_q=[0.9802088], X_p=[74.], y_p=[74]\n",
      "X_o=[45.], y_o=[18.244877], X_q=[0.5], y_q=[0.39752573], X_p=[33.], y_p=[33]\n",
      "X_o=[45.5], y_o=[28.725021], X_q=[0.25], y_q=[0.679861], X_p=[66.], y_p=[66]\n",
      "X_o=[45.5], y_o=[33.251713], X_q=[0.25], y_q=[0.6197974], X_p=[69.], y_p=[69]\n",
      "\n",
      "X_o=[281.], y_o=[250.76625], X_q=[0.25], y_q=[0.81811696], X_p=[53.], y_p=[53]\n",
      "X_o=[281.], y_o=[263.98465], X_q=[0.25], y_q=[0.3704682], X_p=[57.], y_p=[57]\n",
      "X_o=[281.], y_o=[280.0176], X_q=[0.25], y_q=[0.3258571], X_p=[60.], y_p=[60]\n",
      "X_o=[281.5], y_o=[285.3599], X_q=[0.], y_q=[0.21415651], X_p=[53.], y_p=[53]\n",
      "\n",
      "X_o=[70.], y_o=[43.151997], X_q=[0.5], y_q=[0.80996454], X_p=[59.], y_p=[59]\n",
      "X_o=[70.], y_o=[44.45078], X_q=[0.5], y_q=[0.49472004], X_p=[35.], y_p=[35]\n",
      "X_o=[70.], y_o=[71.33558], X_q=[0.5], y_q=[1.405707], X_p=[59.], y_p=[59]\n",
      "X_o=[70.5], y_o=[72.35398], X_q=[1.], y_q=[1.6889558], X_p=[43.], y_p=[43]\n",
      "\n"
     ]
    }
   ],
   "source": [
    "# spot check some examples\n",
    "for _ in range(10):\n",
    "    i = randint(1, 100000)\n",
    "    X1_o = np.reshape(dataX1_o_v[i], (1, seq_length, 1))\n",
    "    X1_q = np.reshape(dataX1_q_v[i], (1, seq_length, 1))\n",
    "    X1_p = np.reshape(to_categorical(dataX1_p_v[i], num_classes=n_features), (1, seq_length, n_features))\n",
    "    target = predict_sequence(infenc, infdec, X1_o, X1_q, X1_p, n_steps_out, n_features)\n",
    "    for j in range(seq_length):\n",
    "        print('X_o=%s, y_o=%s, X_q=%s, y_q=%s, X_p=%s, y_p=%s' % (dataX1_o_v[i][j]*offsb, target[3*j]*offsb,\n",
    "                                                                  dataX1_q_v[i][j]*qlngthb, target[3*j+1]*qlngthb,\n",
    "                                                                  dataX1_p_v[i][j], one_hot_decode([target[3*j+2]])))\n",
    "    print()"
   ]
  }
 ],
 "metadata": {
  "kernelspec": {
   "display_name": "Python 3",
   "language": "python",
   "name": "python3"
  },
  "language_info": {
   "codemirror_mode": {
    "name": "ipython",
    "version": 3
   },
   "file_extension": ".py",
   "mimetype": "text/x-python",
   "name": "python",
   "nbconvert_exporter": "python",
   "pygments_lexer": "ipython3",
   "version": "3.7.6"
  },
  "papermill": {
   "duration": 11215.82341,
   "end_time": "2021-01-02T17:24:55.855745",
   "environment_variables": {},
   "exception": null,
   "input_path": "__notebook__.ipynb",
   "output_path": "__notebook__.ipynb",
   "parameters": {},
   "start_time": "2021-01-02T14:18:00.032335",
   "version": "2.1.0"
  }
 },
 "nbformat": 4,
 "nbformat_minor": 4
}
