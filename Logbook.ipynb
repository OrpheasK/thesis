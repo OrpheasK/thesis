{
  "cells": [
    {
      "metadata": {
        "collapsed": true
      },
      "cell_type": "markdown",
      "source": "- Download [Lakh Pianoroll Daraset](https://salu133445.github.io/lakh-pianoroll-dataset/)\n\nlpd-17-cleansed dataset with genre data matched from id_lists_tagtraum.tar.gz\n\nCode used: -"
    },
    {
      "metadata": {},
      "cell_type": "markdown",
      "source": "- Εξαγωγή ονμάτων φακέλων από το dataset για διασταύρωση IDs\n\nΔημιουργία txt (test2.txt) με τα ονόματα φακέλων του lpd_17_cleansed για σύγκριση με τα tagtraum IDs τύπου TR...\n\nCode used: walkos.py"
    },
    {
      "metadata": {},
      "cell_type": "markdown",
      "source": "- Εύρεση κομματιών ανα είδος στο lpd_17_cleansed και μεταφορά τους\n\nΧρήση test2.txt και id_list_(genre).txt για δημιουργία txt (genre_cleansed.txt) με τα TR IDs συγκεκριμένου είδους\n\nΜεταφορά των npz αρχείων σε φακέλους ανα είδος (genre_cleansed)\n\nCode used: compare.py, move.py, findfiles.py"
    },
    {
      "metadata": {},
      "cell_type": "markdown",
      "source": "- Μετατροπή είδους αρχείων και εύρεση αναπαράστασης\n\nΜετατροπή των npz αρχείων σε midi\n\nΑναπαράσταση γεγονότων midi με απλουστευμένα διανύσματα (time, note_duration, note, velocity(?))\n\nCode used: npztomidi.py, midiwav.py, midicsv.py"
    },
    {
      "metadata": {
        "trusted": true
      },
      "cell_type": "code",
      "source": "",
      "execution_count": null,
      "outputs": []
    }
  ],
  "metadata": {
    "kernelspec": {
      "name": "python36",
      "display_name": "Python 3.6",
      "language": "python"
    },
    "language_info": {
      "mimetype": "text/x-python",
      "nbconvert_exporter": "python",
      "name": "python",
      "pygments_lexer": "ipython3",
      "version": "3.6.6",
      "file_extension": ".py",
      "codemirror_mode": {
        "version": 3,
        "name": "ipython"
      }
    }
  },
  "nbformat": 4,
  "nbformat_minor": 2
}